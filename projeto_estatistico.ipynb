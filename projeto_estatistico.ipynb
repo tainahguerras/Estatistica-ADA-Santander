{
 "cells": [
  {
   "cell_type": "markdown",
   "metadata": {},
   "source": [
    "<div style=\"background-color: gray; padding: 7px; text-align: center;\">\n",
    "    <h2>Projeto Estatística I | Análise Exploratória de Dados (EDA) em Python</h2>\n",
    "</div>"
   ]
  },
  {
   "cell_type": "markdown",
   "metadata": {},
   "source": [
    "**Motivação:** Gostaríamos de entender como a preparação prévia dos alunos se relaciona às notas alcançadas em testes de conhecimento em matemática, escrita e leitura."
   ]
  },
  {
   "cell_type": "markdown",
   "metadata": {},
   "source": [
    "**Hipótese:** Estudantes que completaram o curso de preparação para o teste têm notas maiores.\n",
    "\n",
    "**``H0 (hipótese nula):``** A média das notas totais dos testes é igual para alunos que completaram e não completaram o curso.\n",
    "\n",
    "*média notas com preparação = média notas sem preparação*\n",
    "\n",
    "**``H1 (hipótese alternativa):``** A média das notas totais dos testes é diferente para alunos que completaram e não completaram o curso.\n",
    "\n",
    "*média notas com preparação <> média notas sem preparação*"
   ]
  },
  {
   "cell_type": "markdown",
   "metadata": {},
   "source": [
    "**Dados:**\n",
    "\n",
    "``study_performance.csv``\n",
    "\n",
    "| Colunas                     | Descrição                                      | Dtype  | Classificação        |\n",
    "|-----------------------------|------------------------------------------------|--------|----------------------| \n",
    "| gender                      | Gênero do aluno                                | object | Qualitativa Nominal  |\n",
    "| race_ethnicity              | Grupo étnico do aluno                          | object | Qualitativa Nominal  | \n",
    "| parental_level_of_education | Último nível de educação dos pais              | object | Qualitativa Ordinal  |\n",
    "| lunch                       | Almoço antes do teste                          | object | Qualitativa Nominal  |\n",
    "| test_preparation_course     | Finalização do curso preparatório para o teste | object | Qualitativa Nominal  |\n",
    "| math_score                  | Nota em matemática                             | int64  | Quantitativa Discreta|\n",
    "| reading_score               | Nota em leitura                                | int64  | Quantitativa Discreta|\n",
    "| writing_score               | Nota em escrita                                | int64  | Quantitativa Discreta|"
   ]
  },
  {
   "cell_type": "markdown",
   "metadata": {},
   "source": [
    "# Importando Bibliotecas e Módulos"
   ]
  },
  {
   "cell_type": "code",
   "execution_count": 58,
   "metadata": {},
   "outputs": [],
   "source": [
    "# Bibliotecas\n",
    "import matplotlib.pyplot as plt\n",
    "import numpy as np\n",
    "import pandas as pd\n",
    "import seaborn as sns\n",
    "\n",
    "# Módulos\n",
    "import funcoes_graficos as fns "
   ]
  },
  {
   "cell_type": "markdown",
   "metadata": {},
   "source": [
    "# Carregando Dados"
   ]
  },
  {
   "cell_type": "code",
   "execution_count": null,
   "metadata": {},
   "outputs": [],
   "source": [
    "URL = 'https://raw.githubusercontent.com/tainahguerras/Estatistica-ADA-Santander/main/data/study_performance.csv?token=GHSAT0AAAAAACPQTJF2RXJM7QLNQAEEFDSKZQMSP6A'\n",
    "data = pd.read_csv(URL)"
   ]
  },
  {
   "cell_type": "markdown",
   "metadata": {},
   "source": [
    "# Exploração Inicial"
   ]
  },
  {
   "cell_type": "code",
   "execution_count": null,
   "metadata": {},
   "outputs": [],
   "source": [
    "print('Forma do dataset:',data.shape)"
   ]
  },
  {
   "cell_type": "code",
   "execution_count": null,
   "metadata": {},
   "outputs": [],
   "source": [
    "data.head()"
   ]
  },
  {
   "cell_type": "code",
   "execution_count": null,
   "metadata": {},
   "outputs": [],
   "source": [
    "data.info()"
   ]
  },
  {
   "cell_type": "markdown",
   "metadata": {},
   "source": [
    "### Checando valores faltantes"
   ]
  },
  {
   "cell_type": "code",
   "execution_count": null,
   "metadata": {},
   "outputs": [],
   "source": [
    "data.isnull().sum() "
   ]
  },
  {
   "cell_type": "markdown",
   "metadata": {},
   "source": [
    "### Checando registros duplicados"
   ]
  },
  {
   "cell_type": "code",
   "execution_count": null,
   "metadata": {},
   "outputs": [],
   "source": [
    "data.duplicated().sum() "
   ]
  },
  {
   "cell_type": "markdown",
   "metadata": {},
   "source": [
    "### Proporção das Variáveis Categóricas"
   ]
  },
  {
   "cell_type": "code",
   "execution_count": null,
   "metadata": {},
   "outputs": [],
   "source": [
    "vars_cat = ['gender', 'race_ethnicity', 'parental_level_of_education', 'lunch', 'test_preparation_course']\n",
    "\n",
    "print('Proporção das categorias, em %:\\n')\n",
    "\n",
    "for var in vars_cat:\n",
    "    print(data[var].value_counts(True)*100, '\\n')"
   ]
  },
  {
   "cell_type": "markdown",
   "metadata": {},
   "source": [
    "### Descrição das Variáveis Quantitativas"
   ]
  },
  {
   "cell_type": "code",
   "execution_count": 60,
   "metadata": {},
   "outputs": [],
   "source": [
    "def create_histogram(data, title = '', xlabel = '', ylabel = ''):\n",
    "    \n",
    "    sns.histplot(x=data, bins=20, kde=True, color='#8e7cc3')\n",
    "\n",
    "    plt.title(title)\n",
    "    plt.xlabel(xlabel)\n",
    "    plt.ylabel(ylabel)\n",
    "    plt.show()"
   ]
  },
  {
   "cell_type": "code",
   "execution_count": 62,
   "metadata": {},
   "outputs": [
    {
     "data": {
      "image/png": "[encoded data removed]",
      "text/plain": [
       "<Figure size 640x480 with 1 Axes>"
      ]
     },
     "metadata": {},
     "output_type": "display_data"
    }
   ],
   "source": [
    "create_histogram(data=data['score_sum'])"
   ]
  },
  {
   "cell_type": "code",
   "execution_count": null,
   "metadata": {},
   "outputs": [],
   "source": [
    "plt.figure(figsize=(18,8))\n",
    "plt.subplot(1, 4, 1)\n",
    "plt.title('math scores')\n",
    "sns.violinplot(x='math_score',data=data,color='purple',linewidth=3)\n",
    "plt.subplot(1, 4, 2)\n",
    "plt.title('reading scores')\n",
    "sns.violinplot(x='reading_score',data=data,color='red',linewidth=3)\n",
    "plt.subplot(1, 4, 3)\n",
    "plt.title('writing scores')\n",
    "sns.violinplot(x='writing_score',data=data,color='yellow',linewidth=3)\n",
    "plt.show()"
   ]
  },
  {
   "cell_type": "code",
   "execution_count": 50,
   "metadata": {},
   "outputs": [
    {
     "data": {
      "image/png": "[encoded data removed]",
      "text/plain": [
       "<Figure size 1000x800 with 1 Axes>"
      ]
     },
     "metadata": {},
     "output_type": "display_data"
    }
   ],
   "source": [
    "plt.figure(figsize=(10,8))\n",
    "plt.title('math scores')\n",
    "sns.violinplot(x='math_score',data=data,color='purple',linewidth=3)\n",
    "plt.show()"
   ]
  },
  {
   "cell_type": "markdown",
   "metadata": {},
   "source": [
    "Teste de Leitura"
   ]
  },
  {
   "cell_type": "markdown",
   "metadata": {},
   "source": [
    "Teste de Escrita"
   ]
  },
  {
   "cell_type": "markdown",
   "metadata": {},
   "source": [
    "Tentar entender outliers? O que fazer com eles?\n",
    "\n",
    "Análises que podem ser feitas:\n",
    "- Correlação entre variáveis categoricas e notas do teste separadamente\n",
    "- Correlação entre variáveis categoricas e média das notas\n",
    "\n",
    "    Formas de observar correlação:\n",
    "    - Índices (Pearson, Spearman)\n",
    "    - Gráficos de dispersão\n",
    "    - Heatmaps (?) (não sei como funciona)"
   ]
  },
  {
   "cell_type": "markdown",
   "metadata": {},
   "source": [
    "## Análise Hipótese"
   ]
  },
  {
   "cell_type": "code",
   "execution_count": 37,
   "metadata": {},
   "outputs": [
    {
     "data": {
      "text/html": [
       "<div>\n",
       "<style scoped>\n",
       "    .dataframe tbody tr th:only-of-type {\n",
       "        vertical-align: middle;\n",
       "    }\n",
       "\n",
       "    .dataframe tbody tr th {\n",
       "        vertical-align: top;\n",
       "    }\n",
       "\n",
       "    .dataframe thead th {\n",
       "        text-align: right;\n",
       "    }\n",
       "</style>\n",
       "<table border=\"1\" class=\"dataframe\">\n",
       "  <thead>\n",
       "    <tr style=\"text-align: right;\">\n",
       "      <th></th>\n",
       "      <th>gender</th>\n",
       "      <th>race_ethnicity</th>\n",
       "      <th>parental_level_of_education</th>\n",
       "      <th>lunch</th>\n",
       "      <th>test_preparation_course</th>\n",
       "      <th>math_score</th>\n",
       "      <th>reading_score</th>\n",
       "      <th>writing_score</th>\n",
       "      <th>score_sum</th>\n",
       "    </tr>\n",
       "  </thead>\n",
       "  <tbody>\n",
       "    <tr>\n",
       "      <th>0</th>\n",
       "      <td>female</td>\n",
       "      <td>group B</td>\n",
       "      <td>bachelor's degree</td>\n",
       "      <td>standard</td>\n",
       "      <td>none</td>\n",
       "      <td>72</td>\n",
       "      <td>72</td>\n",
       "      <td>74</td>\n",
       "      <td>218</td>\n",
       "    </tr>\n",
       "    <tr>\n",
       "      <th>1</th>\n",
       "      <td>female</td>\n",
       "      <td>group C</td>\n",
       "      <td>some college</td>\n",
       "      <td>standard</td>\n",
       "      <td>completed</td>\n",
       "      <td>69</td>\n",
       "      <td>90</td>\n",
       "      <td>88</td>\n",
       "      <td>247</td>\n",
       "    </tr>\n",
       "    <tr>\n",
       "      <th>2</th>\n",
       "      <td>female</td>\n",
       "      <td>group B</td>\n",
       "      <td>master's degree</td>\n",
       "      <td>standard</td>\n",
       "      <td>none</td>\n",
       "      <td>90</td>\n",
       "      <td>95</td>\n",
       "      <td>93</td>\n",
       "      <td>278</td>\n",
       "    </tr>\n",
       "    <tr>\n",
       "      <th>3</th>\n",
       "      <td>male</td>\n",
       "      <td>group A</td>\n",
       "      <td>associate's degree</td>\n",
       "      <td>free/reduced</td>\n",
       "      <td>none</td>\n",
       "      <td>47</td>\n",
       "      <td>57</td>\n",
       "      <td>44</td>\n",
       "      <td>148</td>\n",
       "    </tr>\n",
       "    <tr>\n",
       "      <th>4</th>\n",
       "      <td>male</td>\n",
       "      <td>group C</td>\n",
       "      <td>some college</td>\n",
       "      <td>standard</td>\n",
       "      <td>none</td>\n",
       "      <td>76</td>\n",
       "      <td>78</td>\n",
       "      <td>75</td>\n",
       "      <td>229</td>\n",
       "    </tr>\n",
       "  </tbody>\n",
       "</table>\n",
       "</div>"
      ],
      "text/plain": [
       "   gender race_ethnicity parental_level_of_education         lunch  \\\n",
       "0  female        group B           bachelor's degree      standard   \n",
       "1  female        group C                some college      standard   \n",
       "2  female        group B             master's degree      standard   \n",
       "3    male        group A          associate's degree  free/reduced   \n",
       "4    male        group C                some college      standard   \n",
       "\n",
       "  test_preparation_course  math_score  reading_score  writing_score  score_sum  \n",
       "0                    none          72             72             74        218  \n",
       "1               completed          69             90             88        247  \n",
       "2                    none          90             95             93        278  \n",
       "3                    none          47             57             44        148  \n",
       "4                    none          76             78             75        229  "
      ]
     },
     "execution_count": 37,
     "metadata": {},
     "output_type": "execute_result"
    }
   ],
   "source": [
    "data['score_sum'] = data['math_score'] + data['reading_score'] + data['writing_score']\n",
    "data.head()"
   ]
  },
  {
   "cell_type": "code",
   "execution_count": 45,
   "metadata": {},
   "outputs": [],
   "source": [
    "from scipy import stats"
   ]
  },
  {
   "cell_type": "code",
   "execution_count": 46,
   "metadata": {},
   "outputs": [
    {
     "name": "stdout",
     "output_type": "stream",
     "text": [
      "Rejeitamos H0, ou seja, não é normal\n"
     ]
    }
   ],
   "source": [
    "normal_test = stats.normaltest(data.score_sum)\n",
    "pvalue = normal_test.pvalue\n",
    "if pvalue <= 0.05:\n",
    "  print('Rejeitamos H0, ou seja, não é normal')\n",
    "else:\n",
    "  print('Aceitamos H0, ou seja, é normal')"
   ]
  },
  {
   "cell_type": "code",
   "execution_count": 63,
   "metadata": {},
   "outputs": [
    {
     "name": "stdout",
     "output_type": "stream",
     "text": [
      "p-value: 0.0\n",
      "Rejeitamos H0, ou seja, valores de média são diferentes\n"
     ]
    },
    {
     "name": "stderr",
     "output_type": "stream",
     "text": [
      "c:\\Users\\matme\\AppData\\Local\\Programs\\Python\\Python311\\Lib\\site-packages\\scipy\\stats\\_axis_nan_policy.py:531: RuntimeWarning: Precision loss occurred in moment calculation due to catastrophic cancellation. This occurs when the data are nearly identical. Results may be unreliable.\n",
      "  res = hypotest_fun_out(*samples, **kwds)\n"
     ]
    }
   ],
   "source": [
    "data['test_preparation_course'] = data['test_preparation_course'].replace(['none', 'completed'], [0, 1])\n",
    "data['test_preparation_course'] = data['test_preparation_course'].astype(int)\n",
    "\n",
    "x = data[data['test_preparation_course'] == 0]['test_preparation_course']\n",
    "y = data[data['test_preparation_course'] == 1]['test_preparation_course']\n",
    "\n",
    "# ASSUMINDO NORMALIDADE\n",
    "tstudent = stats.ttest_ind(x, y)\n",
    "pvalue = tstudent.pvalue\n",
    "print('p-value:', pvalue)\n",
    "\n",
    "if pvalue <= 0.05:\n",
    "  print('Rejeitamos H0, ou seja, valores de média são diferentes')\n",
    "else:\n",
    "  print('Aceitamos H0')"
   ]
  }
 ],
 "metadata": {
  "kernelspec": {
   "display_name": "Python 3",
   "language": "python",
   "name": "python3"
  },
  "language_info": {
   "codemirror_mode": {
    "name": "ipython",
    "version": 3
   },
   "file_extension": ".py",
   "mimetype": "text/x-python",
   "name": "python",
   "nbconvert_exporter": "python",
   "pygments_lexer": "ipython3",
   "version": "3.11.5"
  }
 },
 "nbformat": 4,
 "nbformat_minor": 2
}
