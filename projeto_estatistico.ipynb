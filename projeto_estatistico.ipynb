{
 "cells": [
  {
   "cell_type": "markdown",
   "metadata": {},
   "source": [
    "<div style=\"background-color: #8e7cc3; padding: 7px; text-align: center;\">\n",
    "    <h2>Projeto Estatística I | Análise Exploratória de Dados (EDA) em Python</h2>\n",
    "</div>"
   ]
  },
  {
   "cell_type": "markdown",
   "metadata": {},
   "source": [
    "# Sumário \n",
    "\n",
    "\n",
    "- [Descrição](#descrição)\n",
    "- [Importando Bibliotecas e Módulos](#importando-bibliotecas-e-módulos)\n",
    "- [Exploração Inicial](#exploração-inicial)\n",
    "- [Análise Hipótese](#análise-hipótese)\n",
    "- [Conclusão](#conclusão)"
   ]
  },
  {
   "cell_type": "markdown",
   "metadata": {},
   "source": [
    "## Descrição"
   ]
  },
  {
   "cell_type": "markdown",
   "metadata": {},
   "source": [
    "**Motivação:** Gostaríamos de entender como a preparação prévia dos alunos se relaciona às notas alcançadas em testes de conhecimento em matemática, escrita e leitura."
   ]
  },
  {
   "cell_type": "markdown",
   "metadata": {},
   "source": [
    "**Hipótese:** Estudantes que completaram o curso de preparação para o teste têm notas maiores.\n",
    "\n",
    "**``H0 (hipótese nula):``** A média das notas totais dos testes é igual para alunos que completaram e não completaram o curso.\n",
    "\n",
    "*média notas com preparação <= média notas sem preparação*\n",
    "\n",
    "**``H1 (hipótese alternativa):``** A média das notas totais dos testes é diferente para alunos que completaram e não completaram o curso.\n",
    "\n",
    "*média notas com preparação > média notas sem preparação*"
   ]
  },
  {
   "cell_type": "markdown",
   "metadata": {},
   "source": [
    "**Dados:**\n",
    "\n",
    "``study_performance.csv``\n",
    "\n",
    "| Colunas                     | Descrição                                      | Classificação        |\n",
    "|-----------------------------|------------------------------------------------|----------------------| \n",
    "| gender                      | Gênero do aluno                                | Qualitativa Nominal  |\n",
    "| race_ethnicity              | Grupo étnico do aluno                          | Qualitativa Nominal  | \n",
    "| parental_level_of_education | Último nível de educação dos pais              | Qualitativa Ordinal  |\n",
    "| lunch                       | Almoço antes do teste                          | Qualitativa Nominal  |\n",
    "| test_preparation_course     | Finalização do curso preparatório para o teste | Qualitativa Nominal  |\n",
    "| math_score                  | Nota em matemática                             | Quantitativa Discreta|\n",
    "| reading_score               | Nota em leitura                                | Quantitativa Discreta|\n",
    "| writing_score               | Nota em escrita                                | Quantitativa Discreta|\n",
    "\n",
    "Os dados foram retirados da plataforma Kaggle e podem ser encontrados [aqui](https://www.kaggle.com/datasets/bhavikjikadara/student-study-performance). "
   ]
  },
  {
   "cell_type": "markdown",
   "metadata": {},
   "source": [
    "## Importando Bibliotecas e Módulos"
   ]
  },
  {
   "cell_type": "code",
   "execution_count": 228,
   "metadata": {},
   "outputs": [],
   "source": [
    "# Bibliotecas\n",
    "import pandas as pd\n",
    "from scipy import stats\n",
    "\n",
    "\n",
    "# Módulos\n",
    "import funcoes_graficos as fns "
   ]
  },
  {
   "cell_type": "markdown",
   "metadata": {},
   "source": [
    "## Exploração Inicial"
   ]
  },
  {
   "cell_type": "code",
   "execution_count": 229,
   "metadata": {},
   "outputs": [],
   "source": [
    "# Carregando dados\n",
    "URL = 'https://raw.githubusercontent.com/tainahguerras/Estatistica-ADA-Santander/main/data/study_performance.csv?token=GHSAT0AAAAAACPQTJF2RXJM7QLNQAEEFDSKZQMSP6A'\n",
    "data = pd.read_csv(URL)"
   ]
  },
  {
   "cell_type": "code",
   "execution_count": 230,
   "metadata": {},
   "outputs": [
    {
     "name": "stdout",
     "output_type": "stream",
     "text": [
      "Forma do dataset: (1000, 8)\n"
     ]
    }
   ],
   "source": [
    "print('Forma do dataset:',data.shape)"
   ]
  },
  {
   "cell_type": "code",
   "execution_count": 231,
   "metadata": {},
   "outputs": [],
   "source": [
    "# Renomeando variável \n",
    "data.rename(columns={'test_preparation_course' : 'preparation_course'}, inplace=True)\n",
    "# Criando coluna de notas totais\n",
    "data['score_sum'] = data['math_score'] + data['reading_score'] + data['writing_score']"
   ]
  },
  {
   "cell_type": "code",
   "execution_count": 232,
   "metadata": {},
   "outputs": [
    {
     "data": {
      "text/html": [
       "<div>\n",
       "<style scoped>\n",
       "    .dataframe tbody tr th:only-of-type {\n",
       "        vertical-align: middle;\n",
       "    }\n",
       "\n",
       "    .dataframe tbody tr th {\n",
       "        vertical-align: top;\n",
       "    }\n",
       "\n",
       "    .dataframe thead th {\n",
       "        text-align: right;\n",
       "    }\n",
       "</style>\n",
       "<table border=\"1\" class=\"dataframe\">\n",
       "  <thead>\n",
       "    <tr style=\"text-align: right;\">\n",
       "      <th></th>\n",
       "      <th>gender</th>\n",
       "      <th>race_ethnicity</th>\n",
       "      <th>parental_level_of_education</th>\n",
       "      <th>lunch</th>\n",
       "      <th>preparation_course</th>\n",
       "      <th>math_score</th>\n",
       "      <th>reading_score</th>\n",
       "      <th>writing_score</th>\n",
       "      <th>score_sum</th>\n",
       "    </tr>\n",
       "  </thead>\n",
       "  <tbody>\n",
       "    <tr>\n",
       "      <th>0</th>\n",
       "      <td>female</td>\n",
       "      <td>group B</td>\n",
       "      <td>bachelor's degree</td>\n",
       "      <td>standard</td>\n",
       "      <td>none</td>\n",
       "      <td>72</td>\n",
       "      <td>72</td>\n",
       "      <td>74</td>\n",
       "      <td>218</td>\n",
       "    </tr>\n",
       "    <tr>\n",
       "      <th>1</th>\n",
       "      <td>female</td>\n",
       "      <td>group C</td>\n",
       "      <td>some college</td>\n",
       "      <td>standard</td>\n",
       "      <td>completed</td>\n",
       "      <td>69</td>\n",
       "      <td>90</td>\n",
       "      <td>88</td>\n",
       "      <td>247</td>\n",
       "    </tr>\n",
       "    <tr>\n",
       "      <th>2</th>\n",
       "      <td>female</td>\n",
       "      <td>group B</td>\n",
       "      <td>master's degree</td>\n",
       "      <td>standard</td>\n",
       "      <td>none</td>\n",
       "      <td>90</td>\n",
       "      <td>95</td>\n",
       "      <td>93</td>\n",
       "      <td>278</td>\n",
       "    </tr>\n",
       "    <tr>\n",
       "      <th>3</th>\n",
       "      <td>male</td>\n",
       "      <td>group A</td>\n",
       "      <td>associate's degree</td>\n",
       "      <td>free/reduced</td>\n",
       "      <td>none</td>\n",
       "      <td>47</td>\n",
       "      <td>57</td>\n",
       "      <td>44</td>\n",
       "      <td>148</td>\n",
       "    </tr>\n",
       "    <tr>\n",
       "      <th>4</th>\n",
       "      <td>male</td>\n",
       "      <td>group C</td>\n",
       "      <td>some college</td>\n",
       "      <td>standard</td>\n",
       "      <td>none</td>\n",
       "      <td>76</td>\n",
       "      <td>78</td>\n",
       "      <td>75</td>\n",
       "      <td>229</td>\n",
       "    </tr>\n",
       "  </tbody>\n",
       "</table>\n",
       "</div>"
      ],
      "text/plain": [
       "   gender race_ethnicity parental_level_of_education         lunch  \\\n",
       "0  female        group B           bachelor's degree      standard   \n",
       "1  female        group C                some college      standard   \n",
       "2  female        group B             master's degree      standard   \n",
       "3    male        group A          associate's degree  free/reduced   \n",
       "4    male        group C                some college      standard   \n",
       "\n",
       "  preparation_course  math_score  reading_score  writing_score  score_sum  \n",
       "0               none          72             72             74        218  \n",
       "1          completed          69             90             88        247  \n",
       "2               none          90             95             93        278  \n",
       "3               none          47             57             44        148  \n",
       "4               none          76             78             75        229  "
      ]
     },
     "execution_count": 232,
     "metadata": {},
     "output_type": "execute_result"
    }
   ],
   "source": [
    "data.head()"
   ]
  },
  {
   "cell_type": "code",
   "execution_count": 233,
   "metadata": {},
   "outputs": [
    {
     "name": "stdout",
     "output_type": "stream",
     "text": [
      "<class 'pandas.core.frame.DataFrame'>\n",
      "RangeIndex: 1000 entries, 0 to 999\n",
      "Data columns (total 9 columns):\n",
      " #   Column                       Non-Null Count  Dtype \n",
      "---  ------                       --------------  ----- \n",
      " 0   gender                       1000 non-null   object\n",
      " 1   race_ethnicity               1000 non-null   object\n",
      " 2   parental_level_of_education  1000 non-null   object\n",
      " 3   lunch                        1000 non-null   object\n",
      " 4   preparation_course           1000 non-null   object\n",
      " 5   math_score                   1000 non-null   int64 \n",
      " 6   reading_score                1000 non-null   int64 \n",
      " 7   writing_score                1000 non-null   int64 \n",
      " 8   score_sum                    1000 non-null   int64 \n",
      "dtypes: int64(4), object(5)\n",
      "memory usage: 70.4+ KB\n"
     ]
    }
   ],
   "source": [
    "# Checando dtype das variáveis\n",
    "data.info()"
   ]
  },
  {
   "cell_type": "code",
   "execution_count": 234,
   "metadata": {},
   "outputs": [
    {
     "data": {
      "text/plain": [
       "gender                         0\n",
       "race_ethnicity                 0\n",
       "parental_level_of_education    0\n",
       "lunch                          0\n",
       "preparation_course             0\n",
       "math_score                     0\n",
       "reading_score                  0\n",
       "writing_score                  0\n",
       "score_sum                      0\n",
       "dtype: int64"
      ]
     },
     "execution_count": 234,
     "metadata": {},
     "output_type": "execute_result"
    }
   ],
   "source": [
    "# Checando valores faltantes\n",
    "data.isnull().sum() "
   ]
  },
  {
   "cell_type": "code",
   "execution_count": 235,
   "metadata": {},
   "outputs": [
    {
     "data": {
      "text/plain": [
       "0"
      ]
     },
     "execution_count": 235,
     "metadata": {},
     "output_type": "execute_result"
    }
   ],
   "source": [
    "# Checando registros duplicados\n",
    "data.duplicated().sum() "
   ]
  },
  {
   "cell_type": "code",
   "execution_count": 236,
   "metadata": {},
   "outputs": [
    {
     "data": {
      "text/html": [
       "<div>\n",
       "<style scoped>\n",
       "    .dataframe tbody tr th:only-of-type {\n",
       "        vertical-align: middle;\n",
       "    }\n",
       "\n",
       "    .dataframe tbody tr th {\n",
       "        vertical-align: top;\n",
       "    }\n",
       "\n",
       "    .dataframe thead th {\n",
       "        text-align: right;\n",
       "    }\n",
       "</style>\n",
       "<table border=\"1\" class=\"dataframe\">\n",
       "  <thead>\n",
       "    <tr style=\"text-align: right;\">\n",
       "      <th></th>\n",
       "      <th>Frequencia</th>\n",
       "      <th>Percentual (%)</th>\n",
       "    </tr>\n",
       "    <tr>\n",
       "      <th>preparation_course</th>\n",
       "      <th></th>\n",
       "      <th></th>\n",
       "    </tr>\n",
       "  </thead>\n",
       "  <tbody>\n",
       "    <tr>\n",
       "      <th>none</th>\n",
       "      <td>642</td>\n",
       "      <td>64.2</td>\n",
       "    </tr>\n",
       "    <tr>\n",
       "      <th>completed</th>\n",
       "      <td>358</td>\n",
       "      <td>35.8</td>\n",
       "    </tr>\n",
       "  </tbody>\n",
       "</table>\n",
       "</div>"
      ],
      "text/plain": [
       "                    Frequencia  Percentual (%)\n",
       "preparation_course                            \n",
       "none                       642            64.2\n",
       "completed                  358            35.8"
      ]
     },
     "execution_count": 236,
     "metadata": {},
     "output_type": "execute_result"
    }
   ],
   "source": [
    "# Proporção da variável preparation_course\n",
    "frequencia = data['preparation_course'].value_counts()\n",
    "porcentagem = data['preparation_course'].value_counts(normalize=True) * 100\n",
    "\n",
    "pd.DataFrame({'Frequencia' : frequencia, 'Percentual (%)' : round(porcentagem,2)})"
   ]
  },
  {
   "cell_type": "code",
   "execution_count": 237,
   "metadata": {},
   "outputs": [
    {
     "data": {
      "text/html": [
       "<div>\n",
       "<style scoped>\n",
       "    .dataframe tbody tr th:only-of-type {\n",
       "        vertical-align: middle;\n",
       "    }\n",
       "\n",
       "    .dataframe tbody tr th {\n",
       "        vertical-align: top;\n",
       "    }\n",
       "\n",
       "    .dataframe thead tr th {\n",
       "        text-align: left;\n",
       "    }\n",
       "\n",
       "    .dataframe thead tr:last-of-type th {\n",
       "        text-align: right;\n",
       "    }\n",
       "</style>\n",
       "<table border=\"1\" class=\"dataframe\">\n",
       "  <thead>\n",
       "    <tr>\n",
       "      <th></th>\n",
       "      <th colspan=\"4\" halign=\"left\">score_sum</th>\n",
       "    </tr>\n",
       "    <tr>\n",
       "      <th></th>\n",
       "      <th>min</th>\n",
       "      <th>mean</th>\n",
       "      <th>median</th>\n",
       "      <th>max</th>\n",
       "    </tr>\n",
       "    <tr>\n",
       "      <th>preparation_course</th>\n",
       "      <th></th>\n",
       "      <th></th>\n",
       "      <th></th>\n",
       "      <th></th>\n",
       "    </tr>\n",
       "  </thead>\n",
       "  <tbody>\n",
       "    <tr>\n",
       "      <th>completed</th>\n",
       "      <td>103</td>\n",
       "      <td>218.008380</td>\n",
       "      <td>220.5</td>\n",
       "      <td>300</td>\n",
       "    </tr>\n",
       "    <tr>\n",
       "      <th>none</th>\n",
       "      <td>27</td>\n",
       "      <td>195.116822</td>\n",
       "      <td>196.0</td>\n",
       "      <td>300</td>\n",
       "    </tr>\n",
       "  </tbody>\n",
       "</table>\n",
       "</div>"
      ],
      "text/plain": [
       "                   score_sum                        \n",
       "                         min        mean median  max\n",
       "preparation_course                                  \n",
       "completed                103  218.008380  220.5  300\n",
       "none                      27  195.116822  196.0  300"
      ]
     },
     "execution_count": 237,
     "metadata": {},
     "output_type": "execute_result"
    }
   ],
   "source": [
    "# Checando medidas estatísticas \n",
    "data.groupby('preparation_course')[['score_sum']].agg(['min', 'mean', 'median', 'max'])"
   ]
  },
  {
   "cell_type": "code",
   "execution_count": 238,
   "metadata": {},
   "outputs": [
    {
     "data": {
      "image/png": "[encoded data removed]",
      "text/plain": [
       "<Figure size 800x400 with 1 Axes>"
      ]
     },
     "metadata": {},
     "output_type": "display_data"
    }
   ],
   "source": [
    "fns.create_histogram(data['score_sum'], 'Distribuição da Pontuação Total', 'Pontuação Total', 'Contagem')"
   ]
  },
  {
   "cell_type": "code",
   "execution_count": 239,
   "metadata": {},
   "outputs": [
    {
     "data": {
      "image/png": "[encoded data removed]",
      "text/plain": [
       "<Figure size 705x400 with 2 Axes>"
      ]
     },
     "metadata": {},
     "output_type": "display_data"
    }
   ],
   "source": [
    "fns.create_violin_boxplot(data=data['score_sum'], title='', ylabel='Score', size = (7.05,4))"
   ]
  },
  {
   "cell_type": "code",
   "execution_count": 240,
   "metadata": {},
   "outputs": [
    {
     "name": "stdout",
     "output_type": "stream",
     "text": [
      "Mantemos os outliers pelo fato da quantidade (6) não alterar o resultado da análise e nem do teste de hipótese.\n",
      "\n",
      "Porém, é curioso que todos outliers, alunos com notas baixissímas, não realizaram o curso preparatório.\n"
     ]
    },
    {
     "data": {
      "text/html": [
       "<div>\n",
       "<style scoped>\n",
       "    .dataframe tbody tr th:only-of-type {\n",
       "        vertical-align: middle;\n",
       "    }\n",
       "\n",
       "    .dataframe tbody tr th {\n",
       "        vertical-align: top;\n",
       "    }\n",
       "\n",
       "    .dataframe thead th {\n",
       "        text-align: right;\n",
       "    }\n",
       "</style>\n",
       "<table border=\"1\" class=\"dataframe\">\n",
       "  <thead>\n",
       "    <tr style=\"text-align: right;\">\n",
       "      <th></th>\n",
       "      <th>preparation_course</th>\n",
       "      <th>score_sum</th>\n",
       "    </tr>\n",
       "  </thead>\n",
       "  <tbody>\n",
       "    <tr>\n",
       "      <th>17</th>\n",
       "      <td>none</td>\n",
       "      <td>78</td>\n",
       "    </tr>\n",
       "    <tr>\n",
       "      <th>59</th>\n",
       "      <td>none</td>\n",
       "      <td>27</td>\n",
       "    </tr>\n",
       "    <tr>\n",
       "      <th>76</th>\n",
       "      <td>none</td>\n",
       "      <td>78</td>\n",
       "    </tr>\n",
       "    <tr>\n",
       "      <th>327</th>\n",
       "      <td>none</td>\n",
       "      <td>70</td>\n",
       "    </tr>\n",
       "    <tr>\n",
       "      <th>596</th>\n",
       "      <td>none</td>\n",
       "      <td>69</td>\n",
       "    </tr>\n",
       "    <tr>\n",
       "      <th>980</th>\n",
       "      <td>none</td>\n",
       "      <td>55</td>\n",
       "    </tr>\n",
       "  </tbody>\n",
       "</table>\n",
       "</div>"
      ],
      "text/plain": [
       "    preparation_course  score_sum\n",
       "17                none         78\n",
       "59                none         27\n",
       "76                none         78\n",
       "327               none         70\n",
       "596               none         69\n",
       "980               none         55"
      ]
     },
     "execution_count": 240,
     "metadata": {},
     "output_type": "execute_result"
    }
   ],
   "source": [
    "# Identificando os Outliers\n",
    "iqr = data['score_sum'].quantile(.75) - data['score_sum'].quantile(.25)\n",
    "outlier = data['score_sum'].quantile(.25) - 1.5 * iqr\n",
    "outliers = data[data['score_sum'] < outlier][['preparation_course', 'score_sum']]\n",
    "print(f'Mantemos os outliers pelo fato da quantidade ({outliers.shape[0]}) não alterar o resultado da análise e nem do teste de hipótese.\\n')\n",
    "print('Porém, é curioso que todos outliers, alunos com notas baixissímas, não realizaram o curso preparatório.')\n",
    "outliers"
   ]
  },
  {
   "cell_type": "markdown",
   "metadata": {},
   "source": [
    "## Análise Hipótese"
   ]
  },
  {
   "cell_type": "code",
   "execution_count": 241,
   "metadata": {},
   "outputs": [
    {
     "name": "stdout",
     "output_type": "stream",
     "text": [
      "p-value: 0.0005037851534493755\n",
      "Rejeitamos H0; não é normal\n"
     ]
    }
   ],
   "source": [
    "normal_test = stats.normaltest(data['score_sum'])\n",
    "pvalue = normal_test.pvalue\n",
    "print(f\"p-value: {pvalue}\")\n",
    "if pvalue <= 0.05:\n",
    "    print('Rejeitamos H0; não é normal')\n",
    "else:\n",
    "    print('Aceitamos H0; é normal')"
   ]
  },
  {
   "cell_type": "code",
   "execution_count": 242,
   "metadata": {},
   "outputs": [
    {
     "name": "stdout",
     "output_type": "stream",
     "text": [
      "H0: μ notas com preparação <= μ notas sem preparação\n",
      "H1: μ notas com preparação > μ notas sem preparação\n",
      "\n",
      "Mann-Whitney U p-value: 1.4876115470885478e-219\n",
      "\n",
      "Rejeitamos H0, ou seja, a média da soma das notas para pessoas que concluíram o curso é maior dos que não concluiuram.\n"
     ]
    }
   ],
   "source": [
    "data['preparation_course'] = data['preparation_course'].map({'none' : 0, 'completed' : 1})\n",
    "data['preparation_course'] = data['preparation_course'].astype(int)\n",
    "\n",
    "# Pegando uma amostra aleatória com o mesmo numero de elementos de cada categoria\n",
    "x = data.query('preparation_course == 0')['preparation_course']\n",
    "y = data.query('preparation_course == 1')['preparation_course']\n",
    "utest = stats.mannwhitneyu(x, y, alternative = 'less')\n",
    "pvalue = utest.pvalue\n",
    "\n",
    "print('H0: μ notas com preparação <= μ notas sem preparação')\n",
    "print('H1: μ notas com preparação > μ notas sem preparação\\n')\n",
    "print('Mann-Whitney U p-value:', pvalue)\n",
    "\n",
    "if pvalue <= 0.05:\n",
    "  print('\\nRejeitamos H0, ou seja, a média da soma das notas para pessoas que concluíram o curso é maior dos que não concluiuram.')\n",
    "else:\n",
    "  print('\\nAceitamos H0, portanto não existe diferença relevante entre a soma das notas para pessoas que realizaram ou não o curso.')"
   ]
  },
  {
   "cell_type": "markdown",
   "metadata": {},
   "source": [
    "## Conclusão"
   ]
  },
  {
   "cell_type": "markdown",
   "metadata": {},
   "source": [
    "Nesse banco de dados com uma amostra de 1.000 alunos, queríamos entender como a preparação prévia dos alunos se relaciona às notas alcançadas em testes de conhecimento em matemática, escrita e leitura.\n",
    "\n",
    "Durante a exploração inicial, criamos uma nova coluna com a soma das notas, verificamos os tipos das variáveis e também se havia dados nulos ou faltantes.\n",
    "\n",
    "Na análise exploratória, utilizando medidas estatística, verificamos como as notas totais se distribuem.\n",
    "\n",
    "Em seguida, realizamos um teste de hipótese para responder se a média das notas dos alunos que realizaram o curso de preparação é maior dos que não realizaram.\n",
    "\n",
    "Por fim, concluímos que o curso de preparação para as provas é relevante para a boa performance dos alunos.\n",
    "\n"
   ]
  }
 ],
 "metadata": {
  "kernelspec": {
   "display_name": "Python 3",
   "language": "python",
   "name": "python3"
  },
  "language_info": {
   "codemirror_mode": {
    "name": "ipython",
    "version": 3
   },
   "file_extension": ".py",
   "mimetype": "text/x-python",
   "name": "python",
   "nbconvert_exporter": "python",
   "pygments_lexer": "ipython3",
   "version": "3.12.2"
  }
 },
 "nbformat": 4,
 "nbformat_minor": 2
}
